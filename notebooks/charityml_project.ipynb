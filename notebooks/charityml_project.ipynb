{
 "cells": [
  {
   "cell_type": "code",
   "execution_count": null,
   "source": [
    "import pandas as pd\r\n",
    "import numpy as np\r\n",
    "import matplotlib.pyplot as plt\r\n",
    "from sklearn.preprocessing import MinMaxScaler\r\n",
    "from sklearn.ensemble import RandomForestClassifier, AdaBoostClassifier, BaggingClassifier, GradientBoostingClassifier\r\n",
    "from sklearn.neighbors import KNeighborsClassifier\r\n",
    "from sklearn.naive_bayes import GaussianNB\r\n",
    "from sklearn.tree import DecisionTreeClassifier\r\n",
    "from sklearn.svm import SVC\r\n",
    "from sklearn.linear_model import LogisticRegression\r\n",
    "from sklearn.model_selection import train_test_split\r\n",
    "from sklearn.metrics import accuracy_score, fbeta_score\r\n",
    "import pickle\r\n",
    "\r\n",
    "%matplotlib inline\r\n",
    "\r\n"
   ],
   "outputs": [],
   "metadata": {
    "id": "886bSfaxM_c_"
   }
  },
  {
   "cell_type": "code",
   "execution_count": null,
   "source": [
    "# loading and reading data\r\n",
    "data = pd.read_csv(\"census.csv\")\r\n",
    "data.head()"
   ],
   "outputs": [
    {
     "output_type": "execute_result",
     "data": {
      "text/plain": [
       "   age          workclass  ...  native-country  income\n",
       "0   39          State-gov  ...   United-States   <=50K\n",
       "1   50   Self-emp-not-inc  ...   United-States   <=50K\n",
       "2   38            Private  ...   United-States   <=50K\n",
       "3   53            Private  ...   United-States   <=50K\n",
       "4   28            Private  ...            Cuba   <=50K\n",
       "\n",
       "[5 rows x 14 columns]"
      ],
      "text/html": [
       "<div>\n",
       "<style scoped>\n",
       "    .dataframe tbody tr th:only-of-type {\n",
       "        vertical-align: middle;\n",
       "    }\n",
       "\n",
       "    .dataframe tbody tr th {\n",
       "        vertical-align: top;\n",
       "    }\n",
       "\n",
       "    .dataframe thead th {\n",
       "        text-align: right;\n",
       "    }\n",
       "</style>\n",
       "<table border=\"1\" class=\"dataframe\">\n",
       "  <thead>\n",
       "    <tr style=\"text-align: right;\">\n",
       "      <th></th>\n",
       "      <th>age</th>\n",
       "      <th>workclass</th>\n",
       "      <th>education_level</th>\n",
       "      <th>education-num</th>\n",
       "      <th>marital-status</th>\n",
       "      <th>occupation</th>\n",
       "      <th>relationship</th>\n",
       "      <th>race</th>\n",
       "      <th>sex</th>\n",
       "      <th>capital-gain</th>\n",
       "      <th>capital-loss</th>\n",
       "      <th>hours-per-week</th>\n",
       "      <th>native-country</th>\n",
       "      <th>income</th>\n",
       "    </tr>\n",
       "  </thead>\n",
       "  <tbody>\n",
       "    <tr>\n",
       "      <th>0</th>\n",
       "      <td>39</td>\n",
       "      <td>State-gov</td>\n",
       "      <td>Bachelors</td>\n",
       "      <td>13.0</td>\n",
       "      <td>Never-married</td>\n",
       "      <td>Adm-clerical</td>\n",
       "      <td>Not-in-family</td>\n",
       "      <td>White</td>\n",
       "      <td>Male</td>\n",
       "      <td>2174.0</td>\n",
       "      <td>0.0</td>\n",
       "      <td>40.0</td>\n",
       "      <td>United-States</td>\n",
       "      <td>&lt;=50K</td>\n",
       "    </tr>\n",
       "    <tr>\n",
       "      <th>1</th>\n",
       "      <td>50</td>\n",
       "      <td>Self-emp-not-inc</td>\n",
       "      <td>Bachelors</td>\n",
       "      <td>13.0</td>\n",
       "      <td>Married-civ-spouse</td>\n",
       "      <td>Exec-managerial</td>\n",
       "      <td>Husband</td>\n",
       "      <td>White</td>\n",
       "      <td>Male</td>\n",
       "      <td>0.0</td>\n",
       "      <td>0.0</td>\n",
       "      <td>13.0</td>\n",
       "      <td>United-States</td>\n",
       "      <td>&lt;=50K</td>\n",
       "    </tr>\n",
       "    <tr>\n",
       "      <th>2</th>\n",
       "      <td>38</td>\n",
       "      <td>Private</td>\n",
       "      <td>HS-grad</td>\n",
       "      <td>9.0</td>\n",
       "      <td>Divorced</td>\n",
       "      <td>Handlers-cleaners</td>\n",
       "      <td>Not-in-family</td>\n",
       "      <td>White</td>\n",
       "      <td>Male</td>\n",
       "      <td>0.0</td>\n",
       "      <td>0.0</td>\n",
       "      <td>40.0</td>\n",
       "      <td>United-States</td>\n",
       "      <td>&lt;=50K</td>\n",
       "    </tr>\n",
       "    <tr>\n",
       "      <th>3</th>\n",
       "      <td>53</td>\n",
       "      <td>Private</td>\n",
       "      <td>11th</td>\n",
       "      <td>7.0</td>\n",
       "      <td>Married-civ-spouse</td>\n",
       "      <td>Handlers-cleaners</td>\n",
       "      <td>Husband</td>\n",
       "      <td>Black</td>\n",
       "      <td>Male</td>\n",
       "      <td>0.0</td>\n",
       "      <td>0.0</td>\n",
       "      <td>40.0</td>\n",
       "      <td>United-States</td>\n",
       "      <td>&lt;=50K</td>\n",
       "    </tr>\n",
       "    <tr>\n",
       "      <th>4</th>\n",
       "      <td>28</td>\n",
       "      <td>Private</td>\n",
       "      <td>Bachelors</td>\n",
       "      <td>13.0</td>\n",
       "      <td>Married-civ-spouse</td>\n",
       "      <td>Prof-specialty</td>\n",
       "      <td>Wife</td>\n",
       "      <td>Black</td>\n",
       "      <td>Female</td>\n",
       "      <td>0.0</td>\n",
       "      <td>0.0</td>\n",
       "      <td>40.0</td>\n",
       "      <td>Cuba</td>\n",
       "      <td>&lt;=50K</td>\n",
       "    </tr>\n",
       "  </tbody>\n",
       "</table>\n",
       "</div>"
      ]
     },
     "metadata": {
      "tags": []
     },
     "execution_count": 2
    }
   ],
   "metadata": {
    "colab": {
     "base_uri": "https://localhost:8080/",
     "height": 383
    },
    "id": "4_LPHXKENDe0",
    "outputId": "0bf31cc7-2451-48d5-af72-3284aba323d9"
   }
  },
  {
   "cell_type": "code",
   "execution_count": null,
   "source": [
    "# dataset don't have any missing data but have skewed data\r\n",
    "data.skew(axis=0)"
   ],
   "outputs": [
    {
     "output_type": "execute_result",
     "data": {
      "text/plain": [
       "age                0.532816\n",
       "education-num     -0.310621\n",
       "capital-gain      11.789002\n",
       "capital-loss       4.516304\n",
       "hours-per-week     0.340545\n",
       "dtype: float64"
      ]
     },
     "metadata": {
      "tags": []
     },
     "execution_count": 3
    }
   ],
   "metadata": {
    "colab": {
     "base_uri": "https://localhost:8080/"
    },
    "id": "_oeYFzecRQs1",
    "outputId": "c4c7f1b3-c874-4338-9244-5ee6b36c33b2"
   }
  },
  {
   "cell_type": "code",
   "execution_count": null,
   "source": [
    "# function to plot feature distribution of skewed data\r\n",
    "def distribution(data, transformed=False):\r\n",
    "  fig = plt.figure(figsize=(12, 6))\r\n",
    "\r\n",
    "  for i, feature in enumerate(['capital-gain','capital-loss']):\r\n",
    "    ax = fig.add_subplot(1, 2, i+1)\r\n",
    "    ax.hist(data[feature], bins=25, color='c', )\r\n",
    "    ax.set_title(f\"'{feature}', Feature Distribution\")\r\n",
    "    ax.set_xlabel(\"Value\")\r\n",
    "    ax.set_ylabel(\"Number of records\")\r\n",
    "    ax.set_ylim((0, 2000))\r\n",
    "    ax.set_yticks([0, 500, 1000, 1500, 2000])\r\n",
    "    ax.set_yticklabels([0, 500, 1000, 1500, \">2000\"])\r\n",
    "  \r\n",
    "  fig.tight_layout()\r\n",
    "  fig.show()"
   ],
   "outputs": [],
   "metadata": {
    "id": "A9gJ62HRNjZy"
   }
  },
  {
   "cell_type": "code",
   "execution_count": null,
   "source": [
    "distribution(data)"
   ],
   "outputs": [
    {
     "output_type": "display_data",
     "data": {
      "text/plain": [
       "<Figure size 864x432 with 2 Axes>"
      ],
      "image/png": "[encoded data removed]"
     },
     "metadata": {
      "tags": []
     }
    }
   ],
   "metadata": {
    "colab": {
     "base_uri": "https://localhost:8080/",
     "height": 441
    },
    "id": "4c9fbQ_IP3_y",
    "outputId": "6f33e2dc-6643-4bad-fd47-1539d60d1a5f"
   }
  },
  {
   "cell_type": "code",
   "execution_count": null,
   "source": [
    "# dividing data into features and labels\r\n",
    "y = data['income']\r\n",
    "X = data.drop('income', axis=1)"
   ],
   "outputs": [],
   "metadata": {
    "id": "MAeF--SDSphc"
   }
  },
  {
   "cell_type": "code",
   "execution_count": null,
   "source": [
    "# apply logarithmic transformation on skewed data\r\n",
    "skewed = ['capital-gain', 'capital-loss']\r\n",
    "X[skewed] = X[skewed].apply(lambda x: np.log(x+1))"
   ],
   "outputs": [],
   "metadata": {
    "id": "ETjSL79UTq-N"
   }
  },
  {
   "cell_type": "code",
   "execution_count": null,
   "source": [
    "y.dtype"
   ],
   "outputs": [
    {
     "output_type": "execute_result",
     "data": {
      "text/plain": [
       "dtype('O')"
      ]
     },
     "metadata": {
      "tags": []
     },
     "execution_count": 8
    }
   ],
   "metadata": {
    "colab": {
     "base_uri": "https://localhost:8080/"
    },
    "id": "VGFbBhmjgPr2",
    "outputId": "f71a2754-d5ce-47b6-9c1f-bfb685bb834e"
   }
  },
  {
   "cell_type": "code",
   "execution_count": null,
   "source": [
    "X.head()"
   ],
   "outputs": [
    {
     "output_type": "execute_result",
     "data": {
      "text/plain": [
       "   age          workclass  ... hours-per-week  native-country\n",
       "0   39          State-gov  ...           40.0   United-States\n",
       "1   50   Self-emp-not-inc  ...           13.0   United-States\n",
       "2   38            Private  ...           40.0   United-States\n",
       "3   53            Private  ...           40.0   United-States\n",
       "4   28            Private  ...           40.0            Cuba\n",
       "\n",
       "[5 rows x 13 columns]"
      ],
      "text/html": [
       "<div>\n",
       "<style scoped>\n",
       "    .dataframe tbody tr th:only-of-type {\n",
       "        vertical-align: middle;\n",
       "    }\n",
       "\n",
       "    .dataframe tbody tr th {\n",
       "        vertical-align: top;\n",
       "    }\n",
       "\n",
       "    .dataframe thead th {\n",
       "        text-align: right;\n",
       "    }\n",
       "</style>\n",
       "<table border=\"1\" class=\"dataframe\">\n",
       "  <thead>\n",
       "    <tr style=\"text-align: right;\">\n",
       "      <th></th>\n",
       "      <th>age</th>\n",
       "      <th>workclass</th>\n",
       "      <th>education_level</th>\n",
       "      <th>education-num</th>\n",
       "      <th>marital-status</th>\n",
       "      <th>occupation</th>\n",
       "      <th>relationship</th>\n",
       "      <th>race</th>\n",
       "      <th>sex</th>\n",
       "      <th>capital-gain</th>\n",
       "      <th>capital-loss</th>\n",
       "      <th>hours-per-week</th>\n",
       "      <th>native-country</th>\n",
       "    </tr>\n",
       "  </thead>\n",
       "  <tbody>\n",
       "    <tr>\n",
       "      <th>0</th>\n",
       "      <td>39</td>\n",
       "      <td>State-gov</td>\n",
       "      <td>Bachelors</td>\n",
       "      <td>13.0</td>\n",
       "      <td>Never-married</td>\n",
       "      <td>Adm-clerical</td>\n",
       "      <td>Not-in-family</td>\n",
       "      <td>White</td>\n",
       "      <td>Male</td>\n",
       "      <td>7.684784</td>\n",
       "      <td>0.0</td>\n",
       "      <td>40.0</td>\n",
       "      <td>United-States</td>\n",
       "    </tr>\n",
       "    <tr>\n",
       "      <th>1</th>\n",
       "      <td>50</td>\n",
       "      <td>Self-emp-not-inc</td>\n",
       "      <td>Bachelors</td>\n",
       "      <td>13.0</td>\n",
       "      <td>Married-civ-spouse</td>\n",
       "      <td>Exec-managerial</td>\n",
       "      <td>Husband</td>\n",
       "      <td>White</td>\n",
       "      <td>Male</td>\n",
       "      <td>0.000000</td>\n",
       "      <td>0.0</td>\n",
       "      <td>13.0</td>\n",
       "      <td>United-States</td>\n",
       "    </tr>\n",
       "    <tr>\n",
       "      <th>2</th>\n",
       "      <td>38</td>\n",
       "      <td>Private</td>\n",
       "      <td>HS-grad</td>\n",
       "      <td>9.0</td>\n",
       "      <td>Divorced</td>\n",
       "      <td>Handlers-cleaners</td>\n",
       "      <td>Not-in-family</td>\n",
       "      <td>White</td>\n",
       "      <td>Male</td>\n",
       "      <td>0.000000</td>\n",
       "      <td>0.0</td>\n",
       "      <td>40.0</td>\n",
       "      <td>United-States</td>\n",
       "    </tr>\n",
       "    <tr>\n",
       "      <th>3</th>\n",
       "      <td>53</td>\n",
       "      <td>Private</td>\n",
       "      <td>11th</td>\n",
       "      <td>7.0</td>\n",
       "      <td>Married-civ-spouse</td>\n",
       "      <td>Handlers-cleaners</td>\n",
       "      <td>Husband</td>\n",
       "      <td>Black</td>\n",
       "      <td>Male</td>\n",
       "      <td>0.000000</td>\n",
       "      <td>0.0</td>\n",
       "      <td>40.0</td>\n",
       "      <td>United-States</td>\n",
       "    </tr>\n",
       "    <tr>\n",
       "      <th>4</th>\n",
       "      <td>28</td>\n",
       "      <td>Private</td>\n",
       "      <td>Bachelors</td>\n",
       "      <td>13.0</td>\n",
       "      <td>Married-civ-spouse</td>\n",
       "      <td>Prof-specialty</td>\n",
       "      <td>Wife</td>\n",
       "      <td>Black</td>\n",
       "      <td>Female</td>\n",
       "      <td>0.000000</td>\n",
       "      <td>0.0</td>\n",
       "      <td>40.0</td>\n",
       "      <td>Cuba</td>\n",
       "    </tr>\n",
       "  </tbody>\n",
       "</table>\n",
       "</div>"
      ]
     },
     "metadata": {
      "tags": []
     },
     "execution_count": 9
    }
   ],
   "metadata": {
    "colab": {
     "base_uri": "https://localhost:8080/",
     "height": 313
    },
    "id": "FfHodGleW1BK",
    "outputId": "36b56af6-8d56-42d4-d098-f43054a197ed"
   }
  },
  {
   "cell_type": "code",
   "execution_count": null,
   "source": [
    "distribution(X)"
   ],
   "outputs": [
    {
     "output_type": "display_data",
     "data": {
      "text/plain": [
       "<Figure size 864x432 with 2 Axes>"
      ],
      "image/png": "[encoded data removed]"
     },
     "metadata": {
      "tags": []
     }
    }
   ],
   "metadata": {
    "colab": {
     "base_uri": "https://localhost:8080/",
     "height": 441
    },
    "id": "KDrwiI5UW24v",
    "outputId": "d6fc5137-b117-4b62-9a5e-b753a30065ee"
   }
  },
  {
   "cell_type": "code",
   "execution_count": null,
   "source": [
    "# normalize data (some columns have larger range than other) using minmax scaler\r\n",
    "\r\n",
    "# initialize scaler\r\n",
    "scaler = MinMaxScaler()\r\n",
    "\r\n",
    "# storing numerical cols to list\r\n",
    "numerical_col = [col for col in X.columns if X[col].dtype != 'object']\r\n",
    "\r\n",
    "# fit and transform numerical data\r\n",
    "X[numerical_col] = scaler.fit_transform(X[numerical_col])\r\n"
   ],
   "outputs": [],
   "metadata": {
    "id": "NYeJfx1NZbZe"
   }
  },
  {
   "cell_type": "code",
   "execution_count": null,
   "source": [
    "X.head()"
   ],
   "outputs": [
    {
     "output_type": "execute_result",
     "data": {
      "text/plain": [
       "        age          workclass  ... hours-per-week  native-country\n",
       "0  0.301370          State-gov  ...       0.397959   United-States\n",
       "1  0.452055   Self-emp-not-inc  ...       0.122449   United-States\n",
       "2  0.287671            Private  ...       0.397959   United-States\n",
       "3  0.493151            Private  ...       0.397959   United-States\n",
       "4  0.150685            Private  ...       0.397959            Cuba\n",
       "\n",
       "[5 rows x 13 columns]"
      ],
      "text/html": [
       "<div>\n",
       "<style scoped>\n",
       "    .dataframe tbody tr th:only-of-type {\n",
       "        vertical-align: middle;\n",
       "    }\n",
       "\n",
       "    .dataframe tbody tr th {\n",
       "        vertical-align: top;\n",
       "    }\n",
       "\n",
       "    .dataframe thead th {\n",
       "        text-align: right;\n",
       "    }\n",
       "</style>\n",
       "<table border=\"1\" class=\"dataframe\">\n",
       "  <thead>\n",
       "    <tr style=\"text-align: right;\">\n",
       "      <th></th>\n",
       "      <th>age</th>\n",
       "      <th>workclass</th>\n",
       "      <th>education_level</th>\n",
       "      <th>education-num</th>\n",
       "      <th>marital-status</th>\n",
       "      <th>occupation</th>\n",
       "      <th>relationship</th>\n",
       "      <th>race</th>\n",
       "      <th>sex</th>\n",
       "      <th>capital-gain</th>\n",
       "      <th>capital-loss</th>\n",
       "      <th>hours-per-week</th>\n",
       "      <th>native-country</th>\n",
       "    </tr>\n",
       "  </thead>\n",
       "  <tbody>\n",
       "    <tr>\n",
       "      <th>0</th>\n",
       "      <td>0.301370</td>\n",
       "      <td>State-gov</td>\n",
       "      <td>Bachelors</td>\n",
       "      <td>0.800000</td>\n",
       "      <td>Never-married</td>\n",
       "      <td>Adm-clerical</td>\n",
       "      <td>Not-in-family</td>\n",
       "      <td>White</td>\n",
       "      <td>Male</td>\n",
       "      <td>0.667492</td>\n",
       "      <td>0.0</td>\n",
       "      <td>0.397959</td>\n",
       "      <td>United-States</td>\n",
       "    </tr>\n",
       "    <tr>\n",
       "      <th>1</th>\n",
       "      <td>0.452055</td>\n",
       "      <td>Self-emp-not-inc</td>\n",
       "      <td>Bachelors</td>\n",
       "      <td>0.800000</td>\n",
       "      <td>Married-civ-spouse</td>\n",
       "      <td>Exec-managerial</td>\n",
       "      <td>Husband</td>\n",
       "      <td>White</td>\n",
       "      <td>Male</td>\n",
       "      <td>0.000000</td>\n",
       "      <td>0.0</td>\n",
       "      <td>0.122449</td>\n",
       "      <td>United-States</td>\n",
       "    </tr>\n",
       "    <tr>\n",
       "      <th>2</th>\n",
       "      <td>0.287671</td>\n",
       "      <td>Private</td>\n",
       "      <td>HS-grad</td>\n",
       "      <td>0.533333</td>\n",
       "      <td>Divorced</td>\n",
       "      <td>Handlers-cleaners</td>\n",
       "      <td>Not-in-family</td>\n",
       "      <td>White</td>\n",
       "      <td>Male</td>\n",
       "      <td>0.000000</td>\n",
       "      <td>0.0</td>\n",
       "      <td>0.397959</td>\n",
       "      <td>United-States</td>\n",
       "    </tr>\n",
       "    <tr>\n",
       "      <th>3</th>\n",
       "      <td>0.493151</td>\n",
       "      <td>Private</td>\n",
       "      <td>11th</td>\n",
       "      <td>0.400000</td>\n",
       "      <td>Married-civ-spouse</td>\n",
       "      <td>Handlers-cleaners</td>\n",
       "      <td>Husband</td>\n",
       "      <td>Black</td>\n",
       "      <td>Male</td>\n",
       "      <td>0.000000</td>\n",
       "      <td>0.0</td>\n",
       "      <td>0.397959</td>\n",
       "      <td>United-States</td>\n",
       "    </tr>\n",
       "    <tr>\n",
       "      <th>4</th>\n",
       "      <td>0.150685</td>\n",
       "      <td>Private</td>\n",
       "      <td>Bachelors</td>\n",
       "      <td>0.800000</td>\n",
       "      <td>Married-civ-spouse</td>\n",
       "      <td>Prof-specialty</td>\n",
       "      <td>Wife</td>\n",
       "      <td>Black</td>\n",
       "      <td>Female</td>\n",
       "      <td>0.000000</td>\n",
       "      <td>0.0</td>\n",
       "      <td>0.397959</td>\n",
       "      <td>Cuba</td>\n",
       "    </tr>\n",
       "  </tbody>\n",
       "</table>\n",
       "</div>"
      ]
     },
     "metadata": {
      "tags": []
     },
     "execution_count": 12
    }
   ],
   "metadata": {
    "colab": {
     "base_uri": "https://localhost:8080/",
     "height": 383
    },
    "id": "7mI3LYMkfZD2",
    "outputId": "c92fd43e-2c32-4c99-d64c-b393ccc3ecd4"
   }
  },
  {
   "cell_type": "code",
   "execution_count": null,
   "source": [
    "# convert categorical columns to numerical\r\n",
    "print(f\"{len(X.columns)} columns before encoding\")\r\n",
    "\r\n",
    "# one hot encoding\r\n",
    "X = pd.get_dummies(X)\r\n",
    "\r\n",
    "print(f\"{len(X.columns)} columns after encoding\")"
   ],
   "outputs": [
    {
     "output_type": "stream",
     "name": "stdout",
     "text": [
      "13 columns before encoding\n",
      "103 columns after encoding\n"
     ]
    }
   ],
   "metadata": {
    "colab": {
     "base_uri": "https://localhost:8080/"
    },
    "id": "DovI3OkAfcPs",
    "outputId": "b6eaff13-fcc1-485b-c5e5-4d1511049249"
   }
  },
  {
   "cell_type": "code",
   "execution_count": null,
   "source": [
    "y.unique()"
   ],
   "outputs": [
    {
     "output_type": "execute_result",
     "data": {
      "text/plain": [
       "array(['<=50K', '>50K'], dtype=object)"
      ]
     },
     "metadata": {
      "tags": []
     },
     "execution_count": 14
    }
   ],
   "metadata": {
    "colab": {
     "base_uri": "https://localhost:8080/"
    },
    "id": "hdVx4MWIggDC",
    "outputId": "945bc9bf-5e54-4910-90e9-7797f7e033b3"
   }
  },
  {
   "cell_type": "code",
   "execution_count": null,
   "source": [
    "# label also has categorical columns, encoding '<=50K' as 0 and '>50k' as 1\r\n",
    "y = y.replace({'<=50K': 0, '>50K' : 1})"
   ],
   "outputs": [],
   "metadata": {
    "id": "E3tcP-9vgIWg"
   }
  },
  {
   "cell_type": "code",
   "execution_count": null,
   "source": [
    "y.dtype"
   ],
   "outputs": [
    {
     "output_type": "execute_result",
     "data": {
      "text/plain": [
       "dtype('int64')"
      ]
     },
     "metadata": {
      "tags": []
     },
     "execution_count": 16
    }
   ],
   "metadata": {
    "colab": {
     "base_uri": "https://localhost:8080/"
    },
    "id": "OhfpDE49gyLB",
    "outputId": "0087049c-1831-48e1-abf8-005971d42328"
   }
  },
  {
   "cell_type": "code",
   "execution_count": null,
   "source": [
    "# split data into training data and validation data\r\n",
    "X_train, X_val, y_train, y_val = train_test_split(X, y, test_size=0.4, random_state=1)\r\n",
    "X_val, X_test, y_val, y_test = train_test_split(X_val, y_val, test_size=0.2, random_state=42)\r\n",
    "\r\n",
    "\r\n",
    "print(f\"{X_train.shape[0]} rows in X_train\\n\"\r\n",
    "      f\"{X_val.shape[0]} rows in X_val\\n\"\r\n",
    "      f\"{X_test.shape[0]} rows in X_test\")"
   ],
   "outputs": [
    {
     "output_type": "stream",
     "name": "stdout",
     "text": [
      "27133 rows in X_train\n",
      "14471 rows in X_val\n",
      "3618 rows in X_test\n"
     ]
    }
   ],
   "metadata": {
    "colab": {
     "base_uri": "https://localhost:8080/"
    },
    "id": "LmwJyRkthsG3",
    "outputId": "9682b129-a79d-4d88-d1ab-2b9fac196482"
   }
  },
  {
   "cell_type": "markdown",
   "source": [],
   "metadata": {
    "id": "T5-D5jlxFsvf"
   }
  },
  {
   "cell_type": "code",
   "execution_count": null,
   "source": [
    "# function to train model, predict and calculating score\r\n",
    "def train_predict(model, X_train, y_train, X_val, y_val):\r\n",
    "  results = {}\r\n",
    "  model.fit(X_train, y_train) # fit training data to model\r\n",
    "  pred = model.predict(X_val) # prediction using validation data\r\n",
    "  results['a_score'] = accuracy_score(y_val, pred)\r\n",
    "  results['f_beta_score'] = fbeta_score(y_val, pred, beta=1)\r\n",
    "\r\n",
    "  return results"
   ],
   "outputs": [],
   "metadata": {
    "id": "lryHbgc-icvg"
   }
  },
  {
   "cell_type": "code",
   "execution_count": null,
   "source": [
    "# initializing each model that we have imported\r\n",
    "randomforest = RandomForestClassifier(random_state=42)\r\n",
    "adaboost = AdaBoostClassifier()\r\n",
    "bagging = BaggingClassifier()\r\n",
    "gradientboosting = GradientBoostingClassifier()\r\n",
    "knn = KNeighborsClassifier()\r\n",
    "naivebayes = GaussianNB()\r\n",
    "tree = DecisionTreeClassifier()\r\n",
    "svm = SVC()\r\n",
    "logistic = LogisticRegression()\r\n"
   ],
   "outputs": [],
   "metadata": {
    "id": "RQEWxXcSndnN"
   }
  },
  {
   "cell_type": "code",
   "execution_count": null,
   "source": [
    "# get name of the model and their accuracy score and fbeta score to find most suitable model\r\n",
    "classifiers = [randomforest, adaboost, bagging, gradientboosting, knn, naivebayes, tree, svm, logistic]\r\n",
    "results = {}\r\n",
    "for clf in classifiers:\r\n",
    "  clf_name = clf.__class__.__name__\r\n",
    "  results[clf_name] = train_predict(clf, X_train, y_train, X_val, y_val)\r\n",
    "print(results)"
   ],
   "outputs": [
    {
     "output_type": "stream",
     "name": "stderr",
     "text": [
      "/usr/local/lib/python3.7/dist-packages/sklearn/linear_model/_logistic.py:940: ConvergenceWarning: lbfgs failed to converge (status=1):\n",
      "STOP: TOTAL NO. of ITERATIONS REACHED LIMIT.\n",
      "\n",
      "Increase the number of iterations (max_iter) or scale the data as shown in:\n",
      "    https://scikit-learn.org/stable/modules/preprocessing.html\n",
      "Please also refer to the documentation for alternative solver options:\n",
      "    https://scikit-learn.org/stable/modules/linear_model.html#logistic-regression\n",
      "  extra_warning_msg=_LOGISTIC_SOLVER_CONVERGENCE_MSG)\n"
     ]
    },
    {
     "output_type": "execute_result",
     "data": {
      "text/plain": [
       "{'AdaBoostClassifier': {'a_score': 0.8566058595909343,\n",
       "  'f_beta_score': 0.6780838917845619},\n",
       " 'BaggingClassifier': {'a_score': 0.835820895522388,\n",
       "  'f_beta_score': 0.6449916327994262},\n",
       " 'DecisionTreeClassifier': {'a_score': 0.8100608070757325,\n",
       "  'f_beta_score': 0.6095454545454545},\n",
       " 'GaussianNB': {'a_score': 0.5945826423438364,\n",
       "  'f_beta_score': 0.531134126070835},\n",
       " 'GradientBoostingClassifier': {'a_score': 0.8626865671641791,\n",
       "  'f_beta_score': 0.6874685455460493},\n",
       " 'KNeighborsClassifier': {'a_score': 0.8247650635710337,\n",
       "  'f_beta_score': 0.6267953849776313},\n",
       " 'LogisticRegression': {'a_score': 0.8407960199004975,\n",
       "  'f_beta_score': 0.6486090775988288},\n",
       " 'RandomForestClassifier': {'a_score': 0.8407960199004975,\n",
       "  'f_beta_score': 0.6592522479886418},\n",
       " 'SVC': {'a_score': 0.8386954118297402, 'f_beta_score': 0.6367936270848893}}"
      ]
     },
     "metadata": {
      "tags": []
     },
     "execution_count": 32
    }
   ],
   "metadata": {
    "colab": {
     "base_uri": "https://localhost:8080/"
    },
    "id": "LRj-9d3Tr-_d",
    "outputId": "7cfec7fe-37dd-4700-ee9f-893010d032c3"
   }
  },
  {
   "cell_type": "code",
   "execution_count": null,
   "source": [
    "# best model is GradientBoostingClassifier\r\n",
    "# improve the model\r\n",
    "\r\n",
    "from sklearn.model_selection import GridSearchCV\r\n",
    "from sklearn.metrics import make_scorer, fbeta_score\r\n",
    "from sklearn.ensemble import GradientBoostingClassifier\r\n",
    "\r\n",
    "\r\n",
    "def grid_fit_predict(model, parameters):           \r\n",
    "  scorer = make_scorer(fbeta_score, beta=0.5)\r\n",
    "\r\n",
    "  grid_obj = GridSearchCV(model,parameters, scoring=scorer)\r\n",
    "\r\n",
    "  grid_fit = grid_obj.fit(X_train, y_train)\r\n",
    "\r\n",
    "  best_clf = grid_fit.best_estimator_\r\n",
    "  return best_clf\r\n",
    "\r\n",
    "\r\n",
    "\r\n"
   ],
   "outputs": [],
   "metadata": {
    "id": "1nhNCufIoj9Z"
   }
  },
  {
   "cell_type": "code",
   "execution_count": null,
   "source": [
    "model = GradientBoostingClassifier()\r\n",
    "\r\n",
    "parameters = {'learning_rate':[0.1,0.2],\r\n",
    "              'n_estimators':[100,150],\r\n",
    "              'max_depth':[2,3],\r\n",
    "              'min_samples_leaf':[1, 2],\r\n",
    "              'min_samples_split':[2, 3]}\r\n",
    "\r\n",
    "\r\n",
    "best_clf = grid_fit_predict(model, parameters)\r\n",
    "print(best_clf)"
   ],
   "outputs": [
    {
     "output_type": "stream",
     "name": "stdout",
     "text": [
      "GradientBoostingClassifier(ccp_alpha=0.0, criterion='friedman_mse', init=None,\n",
      "                           learning_rate=0.2, loss='deviance', max_depth=3,\n",
      "                           max_features=None, max_leaf_nodes=None,\n",
      "                           min_impurity_decrease=0.0, min_impurity_split=None,\n",
      "                           min_samples_leaf=1, min_samples_split=2,\n",
      "                           min_weight_fraction_leaf=0.0, n_estimators=150,\n",
      "                           n_iter_no_change=None, presort='deprecated',\n",
      "                           random_state=None, subsample=1.0, tol=0.0001,\n",
      "                           validation_fraction=0.1, verbose=0,\n",
      "                           warm_start=False)\n"
     ]
    }
   ],
   "metadata": {
    "colab": {
     "base_uri": "https://localhost:8080/"
    },
    "id": "Ff8-EY3E2205",
    "outputId": "3c56df6d-3947-4897-d52c-f82e29b76eac"
   }
  },
  {
   "cell_type": "code",
   "execution_count": 113,
   "source": [
    "\r\n",
    "train_pred = best_clf.predict(X_train)\r\n",
    "val_pred = best_clf.predict(X_val)\r\n",
    "test_pred = best_clf.predict(X_test)\r\n",
    "\r\n",
    "print(f\"train : {accuracy_score(y_train, train_pred)}\")\r\n",
    "print(f\"val : {accuracy_score(y_val, val_pred)}\\n\"\r\n",
    "      f\"test : {accuracy_score(y_test, test_pred)}\")\r\n"
   ],
   "outputs": [
    {
     "output_type": "stream",
     "name": "stdout",
     "text": [
      "train : 0.8774923524859027\n",
      "val : 0.8672517448690484\n",
      "test : 0.8742399115533444\n"
     ]
    }
   ],
   "metadata": {
    "colab": {
     "base_uri": "https://localhost:8080/"
    },
    "id": "SOPMo5MY5uEg",
    "outputId": "c342d813-833b-4ec5-ce92-4f97cc0cbeb7"
   }
  },
  {
   "cell_type": "code",
   "execution_count": 115,
   "source": [
    "\r\n",
    "plt.bar(['train', 'validity', 'test'], [ accuracy_score(y_train, train_pred), accuracy_score(y_val, val_pred2), accuracy_score(y_test, test_pred3)], width=0.2, color='grey')\r\n",
    "plt.title(\"accuracy score for training, validation and testing data\")\r\n"
   ],
   "outputs": [
    {
     "output_type": "execute_result",
     "data": {
      "text/plain": [
       "Text(0.5, 1.0, 'accuracy score for training, validation and testing data')"
      ]
     },
     "metadata": {
      "tags": []
     },
     "execution_count": 115
    },
    {
     "output_type": "display_data",
     "data": {
      "text/plain": [
       "<Figure size 432x288 with 1 Axes>"
      ],
      "image/png": "[encoded data removed]"
     },
     "metadata": {
      "needs_background": "light",
      "tags": []
     }
    }
   ],
   "metadata": {
    "colab": {
     "base_uri": "https://localhost:8080/",
     "height": 298
    },
    "id": "rBOGBd5aGR0E",
    "outputId": "6d83dd52-9ac8-4195-ea89-2dd2658db184"
   }
  },
  {
   "cell_type": "markdown",
   "source": [],
   "metadata": {
    "id": "6xBmbr3VXkQ3"
   }
  }
 ],
 "metadata": {
  "colab": {
   "collapsed_sections": [],
   "name": "charityml_project_final.ipynb",
   "provenance": []
  },
  "kernelspec": {
   "display_name": "Python 3 (ipykernel)",
   "language": "python",
   "name": "python3"
  },
  "language_info": {
   "codemirror_mode": {
    "name": "ipython",
    "version": 3
   },
   "file_extension": ".py",
   "mimetype": "text/x-python",
   "name": "python",
   "nbconvert_exporter": "python",
   "pygments_lexer": "ipython3",
   "version": "3.9.4"
  }
 },
 "nbformat": 4,
 "nbformat_minor": 4
}